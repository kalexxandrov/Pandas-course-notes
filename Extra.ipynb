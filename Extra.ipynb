{
 "cells": [
  {
   "cell_type": "markdown",
   "metadata": {},
   "source": [
    "**Функция pd.date_range()**\n",
    "\n",
    "pd.date_range() - это функция библиотеки Pandas, которая позволяет создавать диапазоны дат с равным интервалом. Она возвращает объект типа DatetimeIndex, содержащий набор последовательных дат, заданных определенным образом.\n",
    "\n",
    "Функция pd.date_range() имеет несколько параметров, которые позволяют определить начальную и конечную даты, длину интервала, а также частоту создаваемых дат. Некоторые из наиболее часто используемых параметров:\n",
    "\n",
    "1. start: начальная дата диапазона.\n",
    "2. end: конечная дата диапазона.\n",
    "3. periods: количество дат, которое нужно создать в диапазоне.\n",
    "4. freq: частота создаваемых дат.\n",
    "\n",
    "Частота (freq) задает интервал между датами и может принимать различные значения, такие как \"D\" для ежедневных дат, \"M\" для ежемесячных дат, \"Y\" для ежегодных дат и т.д.\n",
    "\n",
    "В примере ниже значения продаж существуют только для определённых дат, но нам нужно, чтобы в датасете был некий непрерывный диапазон. "
   ]
  },
  {
   "cell_type": "code",
   "execution_count": null,
   "metadata": {},
   "outputs": [],
   "source": [
    "# пример использования pd.date_range()\n",
    "import pandas as pd\n",
    "df = pd.DataFrame({'product': ['product1', 'product2', 'product3', 'product4'],\n",
    "                      'price': [100, 200, 150, 300]},\n",
    "                     index=pd.to_datetime(['2022-01-01', '2022-01-03', '2022-01-06', '2022-01-08']))\n",
    "\n",
    "new_labels = pd.date_range(start='2022-01-01', periods=8, freq='D')\n",
    "df_reindexed = df.reindex(labels=new_labels)\n",
    "\n",
    "print(df_reindexed)\n",
    "\n",
    "#              product  price\n",
    "# 2022-01-01  product1  100.0\n",
    "# 2022-01-02       NaN    NaN\n",
    "# 2022-01-03  product2  200.0\n",
    "# 2022-01-04       NaN    NaN\n",
    "# 2022-01-05       NaN    NaN\n",
    "# 2022-01-06  product3  150.0\n",
    "# 2022-01-07       NaN    NaN\n",
    "# 2022-01-08  product4  300.0"
   ]
  }
 ],
 "metadata": {
  "kernelspec": {
   "display_name": "Python 3",
   "language": "python",
   "name": "python3"
  },
  "language_info": {
   "codemirror_mode": {
    "name": "ipython",
    "version": 3
   },
   "file_extension": ".py",
   "mimetype": "text/x-python",
   "name": "python",
   "nbconvert_exporter": "python",
   "pygments_lexer": "ipython3",
   "version": "3.11.1"
  }
 },
 "nbformat": 4,
 "nbformat_minor": 2
}
