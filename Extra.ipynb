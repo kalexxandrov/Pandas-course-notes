{
 "cells": [
  {
   "cell_type": "markdown",
   "metadata": {},
   "source": [
    "**Функция pd.date_range()**\n",
    "\n",
    "pd.date_range() - это функция библиотеки Pandas, которая позволяет создавать диапазоны дат с равным интервалом. Она возвращает объект типа DatetimeIndex, содержащий набор последовательных дат, заданных определенным образом.\n",
    "\n",
    "Функция pd.date_range() имеет несколько параметров, которые позволяют определить начальную и конечную даты, длину интервала, а также частоту создаваемых дат. Некоторые из наиболее часто используемых параметров:\n",
    "\n",
    "1. start: начальная дата диапазона.\n",
    "2. end: конечная дата диапазона.\n",
    "3. periods: количество дат, которое нужно создать в диапазоне.\n",
    "4. freq: частота создаваемых дат.\n",
    "\n",
    "Частота (freq) задает интервал между датами и может принимать различные значения, такие как \"D\" для ежедневных дат, \"M\" для ежемесячных дат, \"Y\" для ежегодных дат и т.д.\n",
    "\n",
    "В примере ниже значения продаж существуют только для определённых дат, но нам нужно, чтобы в датасете был некий непрерывный диапазон. "
   ]
  },
  {
   "cell_type": "code",
   "execution_count": null,
   "metadata": {},
   "outputs": [],
   "source": [
    "# пример использования pd.date_range()\n",
    "import pandas as pd\n",
    "df = pd.DataFrame({'product': ['product1', 'product2', 'product3', 'product4'],\n",
    "                      'price': [100, 200, 150, 300]},\n",
    "                     index=pd.to_datetime(['2022-01-01', '2022-01-03', '2022-01-06', '2022-01-08']))\n",
    "\n",
    "new_labels = pd.date_range(start='2022-01-01', periods=8, freq='D')\n",
    "df_reindexed = df.reindex(labels=new_labels)\n",
    "\n",
    "print(df_reindexed)\n",
    "\n",
    "#              product  price\n",
    "# 2022-01-01  product1  100.0\n",
    "# 2022-01-02       NaN    NaN\n",
    "# 2022-01-03  product2  200.0\n",
    "# 2022-01-04       NaN    NaN\n",
    "# 2022-01-05       NaN    NaN\n",
    "# 2022-01-06  product3  150.0\n",
    "# 2022-01-07       NaN    NaN\n",
    "# 2022-01-08  product4  300.0"
   ]
  },
  {
   "cell_type": "markdown",
   "metadata": {},
   "source": [
    "В примере выше можно обратить внимание на функцию pd.to_datetime - она конвертирует входные данные в формат daytime64[ns].\n",
    "\n",
    "Синтаксис:\n",
    "\n",
    "pd.to_datetime(arg[, format[, errors[, dayfirst[, yearfirst[, utc,box,unit, origin]]]]])\n",
    "\n",
    "Основной аргумент функции arg - это данные, которые необходимо преобразовать в объекты datetime. Они могут быть представлены как список, кортеж, одномерный массив numpy или серия pandas."
   ]
  },
  {
   "cell_type": "code",
   "execution_count": null,
   "metadata": {},
   "outputs": [],
   "source": [
    "# пример использования функции pd.to_datetime() для парсинга даты из csv_файла\n",
    "import pandas as pd\n",
    "\n",
    "df = pd.read_csv('data.csv') \n",
    "df['date'] = pd.to_datetime(df['date'], format='%d-%m-%Y')\n",
    "\n",
    "print(df['date'])"
   ]
  },
  {
   "cell_type": "markdown",
   "metadata": {},
   "source": [
    "Если дата указана в явном виде, то функция pd.to_datetime будет распознавать его без дополнительной конкретизации параметров формата."
   ]
  },
  {
   "cell_type": "markdown",
   "metadata": {},
   "source": [
    "# **Функция daytime.striptime()**\n",
    "\n",
    "Позволяет конвертировать строки, содержащие даты в нестандартном формате, в формат daytime64[ns].\n",
    "\n",
    "Синтаксис следующий:\n",
    "\n",
    "datetime.strptime(date_string, format)\n",
    "\n",
    "Параметр format представляет собой строку, которая определяет, как устроена строка с датой/временем date_string. Формат должен соответствовать дате в строке, поэтому нужно знать, как образована эта дата. Ниже приведены некоторые распространенные форматы даты и время, которые можно использовать с datetime.strptime():\n",
    "\n",
    "* `%Y` - год (например, 0000..9999);\n",
    "* `%m` - месяц (например, 01-12);\n",
    "* `%d` - день (например, 01-31)\n",
    "* `%H` - часы в 24-часовом формате (например, 00-23);\n",
    "* `%M` - минуты (например, 00-59);\n",
    "* `%S` - секунды (например, 00-59)."
   ]
  },
  {
   "cell_type": "code",
   "execution_count": null,
   "metadata": {},
   "outputs": [],
   "source": [
    "# Преобразование строки '12-01-2021' в объект datetime\n",
    "from datetime import datetime\n",
    "\n",
    "date_str = '12-01-2021'\n",
    "date_obj = datetime.strptime(date_str, '%d-%m-%Y')\n",
    "\n",
    "print(date_obj) # 2021-01-12 00:00:00"
   ]
  },
  {
   "cell_type": "code",
   "execution_count": null,
   "metadata": {},
   "outputs": [],
   "source": [
    "# Преобразование строки '09:45:00' в объект datetime\n",
    "from datetime import datetime\n",
    "\n",
    "time_str = '09:45:00'\n",
    "time_obj = datetime.strptime(time_str, '%H:%M:%S')\n",
    "\n",
    "print(time_obj) # 1900-01-01 09:45:00"
   ]
  }
 ],
 "metadata": {
  "kernelspec": {
   "display_name": "Python 3",
   "language": "python",
   "name": "python3"
  },
  "language_info": {
   "codemirror_mode": {
    "name": "ipython",
    "version": 3
   },
   "file_extension": ".py",
   "mimetype": "text/x-python",
   "name": "python",
   "nbconvert_exporter": "python",
   "pygments_lexer": "ipython3",
   "version": "3.11.1"
  }
 },
 "nbformat": 4,
 "nbformat_minor": 2
}
