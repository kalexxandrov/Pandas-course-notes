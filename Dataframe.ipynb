{
 "cells": [
  {
   "cell_type": "markdown",
   "metadata": {},
   "source": [
    "**Объект DataFrame и его создание**\n",
    "=\n",
    "DataFrame - это одна из основных структур данных в Python, используемых для работы с табличными данными. Он представляет собой таблицу, состоящую из строк и столбцов, где каждый столбец может иметь разные типы данных. DataFrame очень похож на SQL-таблицу или электронную таблицу Excel.\n",
    "\n",
    "Основные характеристики DataFrame:\n",
    "\n",
    "1. Он содержит две оси, ось строк и ось столбцов, которые могут быть маркированы именами или целочисленными индексами.\n",
    "2. Каждый столбец может содержать данные различных типов, таких как числа, строки, булевы значения и т. д.\n",
    "3. DataFrame поддерживает множество операций с данными, включая выборку, фильтрацию, группировку, агрегацию, слияние и т. д.\n",
    "4. Он может быть создан из различных источников данных, таких как CSV, Excel, SQL-запросы, массивы NumPy и т. д.\n",
    "5. DataFrame предоставляет множество методов для работы с данными, включая сортировку, замену значений, преобразование данных и т. д.\n",
    "6. Он имеет много параметров, которые могут быть использованы для настройки поведения и функциональности.\n",
    "7. DataFrame может содержать отсутствующие значения (NaN или None), которые могут быть обработаны с помощью специальных методов.\n",
    "8. Он может быть сохранен в различных форматах, таких как CSV, Excel, JSON, SQL-таблицы и т. д."
   ]
  },
  {
   "cell_type": "code",
   "execution_count": null,
   "metadata": {},
   "outputs": [],
   "source": [
    "#cоздание DataFrame из списка списков\n",
    "import pandas as pd\n",
    "\n",
    "data = [['John', 28, 'New York'],\n",
    "        ['Kate', 23, 'Chicago'],\n",
    "        ['Mike', 32, 'San Francisco']]\n",
    "df = pd.DataFrame(data, columns=['Name', 'Age', 'City'])\n",
    "\n",
    "print(df)\n",
    "\n",
    "#   Name  Age           City\n",
    "#0  John   28       New York\n",
    "#1  Kate   23        Chicago\n",
    "#2  Mike   32  San Francisco"
   ]
  },
  {
   "cell_type": "code",
   "execution_count": null,
   "metadata": {},
   "outputs": [],
   "source": [
    "#создание DataFrame из словаря\n",
    "\n",
    "import pandas as pd\n",
    "\n",
    "data = {'Name': ['John', 'Kate', 'Mike'],\n",
    "        'Age': [28, 23, 32],\n",
    "        'City': ['New York', 'Chicago', 'San Francisco']}\n",
    "df = pd.DataFrame(data)\n",
    "\n",
    "print(df)\n",
    "\n",
    "#вывод тот же, что и в примере выше"
   ]
  },
  {
   "cell_type": "code",
   "execution_count": null,
   "metadata": {},
   "outputs": [],
   "source": [
    "#создание DataFrame из списка словарей\n",
    "\n",
    "import pandas as pd\n",
    "\n",
    "data = [{'Name': 'John', 'Age': 28, 'City': 'New York'},\n",
    "        {'Name': 'Kate', 'Age': 23, 'City': 'Chicago'},\n",
    "        {'Name': 'Mike', 'Age': 32, 'City': 'San Francisco'}]\n",
    "df = pd.DataFrame(data)\n",
    "\n",
    "print(df)\n",
    "\n",
    "#вывод тот же, что и в примере выше"
   ]
  },
  {
   "cell_type": "code",
   "execution_count": null,
   "metadata": {},
   "outputs": [],
   "source": [
    "#создание DataFrame из массива numpy\n",
    "import pandas as pd\n",
    "import numpy as np\n",
    "\n",
    "data = np.array([['John', 28, 'New York'],\n",
    "                 ['Kate', 23, 'Chicago'],\n",
    "                 ['Mike', 32, 'San Francisco']])\n",
    "df = pd.DataFrame(data, columns=['Name', 'Age', 'City'])\n",
    "\n",
    "print(df)\n",
    "\n",
    "#вывод тот же, что и в примере выше"
   ]
  },
  {
   "cell_type": "code",
   "execution_count": null,
   "metadata": {},
   "outputs": [],
   "source": [
    "#создание пустого DataFrame\n",
    "import pandas as pd\n",
    "\n",
    "df = pd.DataFrame(columns=['Name', 'Age', 'City'])\n",
    "\n",
    "print(df)\n",
    "\n",
    "#Empty DataFrame\n",
    "#Columns: [Name, Age, City]\n",
    "#Index: []"
   ]
  },
  {
   "cell_type": "markdown",
   "metadata": {},
   "source": [
    "Параметр columns используется для указания имен столбцов DataFrame при его создании. В примерах выше мы передавали имена столбцов в параметре columns, чтобы DataFrame знал, как называются столбцы. Если не указывать этот параметр, то DataFrame автоматически назначит имена столбцам в порядке их появления в данных (0, 1, 2…).\n",
    "\n",
    "Имена столбцов можно изменить после создания DataFrame с помощью атрибута columns. Это может быть полезно, если мы заметили ошибку в именах столбцов или просто хотим изменить их в процессе работы с DataFrame."
   ]
  },
  {
   "cell_type": "code",
   "execution_count": null,
   "metadata": {},
   "outputs": [],
   "source": [
    "#для изменения имен столбцов нужно просто присвоить новые имена списку, который передается в атрибут columns\n",
    "import pandas as pd\n",
    "\n",
    "data = [['John', 28, 'New York'],\n",
    "        ['Kate', 23, 'Chicago'],\n",
    "        ['Mike', 32, 'San Francisco']]\n",
    "df = pd.DataFrame(data, columns=['Name', 'Age', 'City'])\n",
    "\n",
    "print(df)\n",
    "\n",
    "#   Name  Age           City\n",
    "#0  John   28       New York\n",
    "#1  Kate   23        Chicago\n",
    "#2  Mike   32  San Francisco\n",
    "\n",
    "df.columns = ['Full Name', 'Age', 'Location'] #переименовываем\n",
    "\n",
    "print(df)\n",
    "\n",
    "#  Full Name  Age       Location\n",
    "#0      John   28       New York\n",
    "#1      Kate   23        Chicago\n",
    "#2      Mike   32  San Francisco"
   ]
  }
 ],
 "metadata": {
  "kernelspec": {
   "display_name": "Python 3",
   "language": "python",
   "name": "python3"
  },
  "language_info": {
   "codemirror_mode": {
    "name": "ipython",
    "version": 3
   },
   "file_extension": ".py",
   "mimetype": "text/x-python",
   "name": "python",
   "nbconvert_exporter": "python",
   "pygments_lexer": "ipython3",
   "version": "3.11.1"
  }
 },
 "nbformat": 4,
 "nbformat_minor": 2
}
