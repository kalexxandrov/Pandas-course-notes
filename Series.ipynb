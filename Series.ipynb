{
 "cells": [
  {
   "cell_type": "markdown",
   "metadata": {},
   "source": [
    "**Создание объекта Series в Pandas**\n",
    "\n",
    "Один из основных объектов, использующихся в Pandas – одномерный массив с метками, которые могут содержать данные любого типа (числовые, строковые, логические и т.п.). Каждый элемент объекта Series имеет свою уникальную метку (индекс), которая может быть явно задана пользователем или сгенерирована автоматически.\n",
    "\n",
    "Объект Series можно создать из различных источников данных, например, из списка, массива NumPy или словаря Python. Для создания объекта Series можно использовать функцию pd.Series()."
   ]
  },
  {
   "cell_type": "code",
   "execution_count": null,
   "metadata": {},
   "outputs": [],
   "source": [
    "# создание объекта Series из списка \n",
    "import pandas as pd \n",
    "my_list = [1, 2, 3, 4, 5] \n",
    "s = pd.Series(my_list) \n",
    "print(s) "
   ]
  },
  {
   "cell_type": "code",
   "execution_count": null,
   "metadata": {},
   "outputs": [],
   "source": [
    "# создание объекта Series из массива NumPy\n",
    "import pandas as pd\n",
    "import numpy as np \n",
    "my_array = np.array([1, 2, 3, 4, 5]) \n",
    "s = pd.Series(my_array) \n",
    "print(s) "
   ]
  },
  {
   "cell_type": "markdown",
   "metadata": {},
   "source": [
    "Если в Series передаётся словарь, то его ключи автоматически становятся его индексами (как в примере ниже)."
   ]
  },
  {
   "cell_type": "code",
   "execution_count": null,
   "metadata": {},
   "outputs": [],
   "source": [
    "# создание объекта Series из словаря Python\n",
    "import pandas as pd\n",
    "my_dict = {'a': 1, \n",
    "           'b': 2, \n",
    "           'c': 3, \n",
    "           'd': 4, \n",
    "           'e': 5} \n",
    "s = pd.Series(my_dict) \n",
    "print(s)"
   ]
  },
  {
   "cell_type": "code",
   "execution_count": null,
   "metadata": {},
   "outputs": [],
   "source": [
    "# создание объекта Series из скалярного значения (из заданного количества одинаковых значений)\n",
    "import pandas as pd\n",
    "import pandas as pd\n",
    "s = pd.Series(5, index=['a', 'b', 'c'])\n",
    "print(s)"
   ]
  },
  {
   "cell_type": "markdown",
   "metadata": {},
   "source": [
    "Можно создать новый объект Series на основе уже существующего объекта Series. Это создаст новый объект Series, который будет идентичен исходному объекту."
   ]
  },
  {
   "cell_type": "code",
   "execution_count": null,
   "metadata": {},
   "outputs": [],
   "source": [
    "# создание нового объекта Series на основе существующего\n",
    "import pandas as pd\n",
    "s1 = pd.Series([1, 2, 3]) \n",
    "s2 = pd.Series(s1) \n",
    "print(s2)"
   ]
  },
  {
   "cell_type": "markdown",
   "metadata": {},
   "source": [
    "Следует иметь в виду, что функция pd.Series принимает множество аргументов, из которых обязательным является аргумент data, в который передается структура данных для преобразования в объект типа Series. Также в некоторых примерах выше использовался параметр index, в который передается список с наименованиями индексов создаваемого объекта."
   ]
  },
  {
   "cell_type": "markdown",
   "metadata": {},
   "source": [
    "**Атрибуты index и values объекта pandas.Series**\n",
    "\n",
    "Объект Series очень похож на массив NumPy, но в отличие от массива NumPy, объект Series имеет свойства/атрибуты index и values.\n",
    "\n",
    "Атрибут index объекта Series представляет собой метки, связанные с элементами объекта Series. Метки могут быть любого типа, но часто используются целочисленные значения или строки. По умолчанию, метки являются целочисленными значениями от 0 до N-1, где N - длина объекта Series.\n",
    "\n",
    "Атрибут values объекта Series представляет собой массив NumPy ndarray, содержащий фактические данные объекта Series. Данные могут быть любого типа, но часто используются числа или строки.\n",
    "\n",
    "Объекты Index и ndarray могут быть использованы вместе для доступа и манипулирования данными в объекте Series. Например, мы можем использовать индекс для выбора элементов из массива значений и наоборот, мы можем использовать значения для создания нового объекта Series с другими метками или индексами. \n",
    "Класс Index является неизменяемым."
   ]
  },
  {
   "cell_type": "code",
   "execution_count": null,
   "metadata": {},
   "outputs": [],
   "source": [
    "# Создание объекта Series с пользовательскими метками\n",
    "import pandas as pd\n",
    "s = pd.Series([10, 20, 30, 40], index=['a', 'b', 'c', 'd'])\n",
    "print(s.index) #просмотр индексов\n",
    "print(s.values) #просмотр данных"
   ]
  },
  {
   "cell_type": "code",
   "execution_count": null,
   "metadata": {},
   "outputs": [],
   "source": [
    "# Создание объекта Series с пользовательскими метками\n",
    "import pandas as pd\n",
    "\n",
    "s = pd.Series([10, 20, 30, 40], index=['a', 'b', 'c', 'd'])\n",
    "\n",
    "# Выбор элементов по меткам\n",
    "print(s['a'])\n",
    "print(s[['a', 'c']])"
   ]
  }
 ],
 "metadata": {
  "kernelspec": {
   "display_name": "Python 3",
   "language": "python",
   "name": "python3"
  },
  "language_info": {
   "codemirror_mode": {
    "name": "ipython",
    "version": 3
   },
   "file_extension": ".py",
   "mimetype": "text/x-python",
   "name": "python",
   "nbconvert_exporter": "python",
   "pygments_lexer": "ipython3",
   "version": "3.11.1"
  }
 },
 "nbformat": 4,
 "nbformat_minor": 2
}
