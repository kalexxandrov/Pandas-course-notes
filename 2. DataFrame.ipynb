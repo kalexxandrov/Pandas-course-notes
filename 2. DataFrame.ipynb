{
 "cells": [
  {
   "cell_type": "markdown",
   "metadata": {},
   "source": [
    "**Объект DataFrame и его создание**\n",
    "=\n",
    "DataFrame - это одна из основных структур данных в Python, используемых для работы с табличными данными. Он представляет собой таблицу, состоящую из строк и столбцов, где каждый столбец может иметь разные типы данных. DataFrame очень похож на SQL-таблицу или электронную таблицу Excel.\n",
    "\n",
    "Основные характеристики DataFrame:\n",
    "\n",
    "1. Он содержит две оси, ось строк и ось столбцов, которые могут быть маркированы именами или целочисленными индексами.\n",
    "2. Каждый столбец может содержать данные различных типов, таких как числа, строки, булевы значения и т. д.\n",
    "3. DataFrame поддерживает множество операций с данными, включая выборку, фильтрацию, группировку, агрегацию, слияние и т. д.\n",
    "4. Он может быть создан из различных источников данных, таких как CSV, Excel, SQL-запросы, массивы NumPy и т. д.\n",
    "5. DataFrame предоставляет множество методов для работы с данными, включая сортировку, замену значений, преобразование данных и т. д.\n",
    "6. Он имеет много параметров, которые могут быть использованы для настройки поведения и функциональности.\n",
    "7. DataFrame может содержать отсутствующие значения (NaN или None), которые могут быть обработаны с помощью специальных методов.\n",
    "8. Он может быть сохранен в различных форматах, таких как CSV, Excel, JSON, SQL-таблицы и т. д."
   ]
  },
  {
   "cell_type": "code",
   "execution_count": null,
   "metadata": {},
   "outputs": [],
   "source": [
    "#cоздание DataFrame из списка списков\n",
    "import pandas as pd\n",
    "\n",
    "data = [['John', 28, 'New York'],\n",
    "        ['Kate', 23, 'Chicago'],\n",
    "        ['Mike', 32, 'San Francisco']]\n",
    "\n",
    "df = pd.DataFrame(data, columns=['Name', 'Age', 'City'])\n",
    "\n",
    "print(df)\n",
    "\n",
    "#   Name  Age           City\n",
    "#0  John   28       New York\n",
    "#1  Kate   23        Chicago\n",
    "#2  Mike   32  San Francisco"
   ]
  },
  {
   "cell_type": "code",
   "execution_count": null,
   "metadata": {},
   "outputs": [],
   "source": [
    "#создание DataFrame из словаря\n",
    "\n",
    "import pandas as pd\n",
    "\n",
    "data = {'Name': ['John', 'Kate', 'Mike'],\n",
    "        'Age': [28, 23, 32],\n",
    "        'City': ['New York', 'Chicago', 'San Francisco']}\n",
    "\n",
    "df = pd.DataFrame(data)\n",
    "\n",
    "print(df)\n",
    "\n",
    "#вывод тот же, что и в примере выше"
   ]
  },
  {
   "cell_type": "code",
   "execution_count": null,
   "metadata": {},
   "outputs": [],
   "source": [
    "#создание DataFrame из списка словарей\n",
    "\n",
    "import pandas as pd\n",
    "\n",
    "data = [{'Name': 'John', 'Age': 28, 'City': 'New York'},\n",
    "        {'Name': 'Kate', 'Age': 23, 'City': 'Chicago'},\n",
    "        {'Name': 'Mike', 'Age': 32, 'City': 'San Francisco'}]\n",
    "\n",
    "df = pd.DataFrame(data)\n",
    "\n",
    "print(df)\n",
    "\n",
    "#вывод тот же, что и в примере выше"
   ]
  },
  {
   "cell_type": "code",
   "execution_count": null,
   "metadata": {},
   "outputs": [],
   "source": [
    "#создание DataFrame из массива numpy\n",
    "import pandas as pd\n",
    "import numpy as np\n",
    "\n",
    "data = np.array([['John', 28, 'New York'],\n",
    "                 ['Kate', 23, 'Chicago'],\n",
    "                 ['Mike', 32, 'San Francisco']])\n",
    "\n",
    "df = pd.DataFrame(data, columns=['Name', 'Age', 'City'])\n",
    "\n",
    "print(df)\n",
    "\n",
    "#вывод тот же, что и в примере выше"
   ]
  },
  {
   "cell_type": "code",
   "execution_count": null,
   "metadata": {},
   "outputs": [],
   "source": [
    "#создание пустого DataFrame\n",
    "import pandas as pd\n",
    "\n",
    "df = pd.DataFrame(columns=['Name', 'Age', 'City'])\n",
    "\n",
    "print(df)\n",
    "\n",
    "#Empty DataFrame\n",
    "#Columns: [Name, Age, City]\n",
    "#Index: []"
   ]
  },
  {
   "cell_type": "markdown",
   "metadata": {},
   "source": [
    "Параметр columns используется для указания имен столбцов DataFrame при его создании. В примерах выше мы передавали имена столбцов в параметре columns, чтобы DataFrame знал, как называются столбцы. Если не указывать этот параметр, то DataFrame автоматически назначит имена столбцам в порядке их появления в данных (0, 1, 2…).\n",
    "\n",
    "Имена столбцов можно изменить после создания DataFrame с помощью атрибута columns. Это может быть полезно, если мы заметили ошибку в именах столбцов или просто хотим изменить их в процессе работы с DataFrame."
   ]
  },
  {
   "cell_type": "code",
   "execution_count": null,
   "metadata": {},
   "outputs": [],
   "source": [
    "#для изменения имен столбцов нужно просто присвоить новые имена списку, который передается в атрибут columns\n",
    "import pandas as pd\n",
    "\n",
    "data = [['John', 28, 'New York'],\n",
    "        ['Kate', 23, 'Chicago'],\n",
    "        ['Mike', 32, 'San Francisco']]\n",
    "\n",
    "df = pd.DataFrame(data, columns=['Name', 'Age', 'City'])\n",
    "\n",
    "print(df)\n",
    "\n",
    "#   Name  Age           City\n",
    "#0  John   28       New York\n",
    "#1  Kate   23        Chicago\n",
    "#2  Mike   32  San Francisco\n",
    "\n",
    "df.columns = ['Full Name', 'Age', 'Location'] #переименовываем\n",
    "\n",
    "print(df)\n",
    "\n",
    "#  Full Name  Age       Location\n",
    "#0      John   28       New York\n",
    "#1      Kate   23        Chicago\n",
    "#2      Mike   32  San Francisco"
   ]
  },
  {
   "cell_type": "markdown",
   "metadata": {},
   "source": [
    "**Основы работы со столбцами DataFrame**\n",
    "=\n",
    "**Методы head и tail**\n",
    "\n",
    "Например, если есть DataFrame с именем df, можно использовать метод head для просмотра первых 5 строк следующим образом:\n",
    "\n",
    "df.head()\n",
    "\n",
    "Также можно указать количество строк, которые нужно отобразить, используя параметр n:\n",
    "\n",
    "df.head(n=10)\n",
    "\n",
    "Метод tail работает аналогично, только выводит последние строки DataFrame."
   ]
  },
  {
   "cell_type": "code",
   "execution_count": null,
   "metadata": {},
   "outputs": [],
   "source": [
    "#пример работы df.head() и df.tail()\n",
    "import pandas as pd\n",
    "\n",
    "data = [[27, 82],\n",
    "        [16, 24],\n",
    "        [50, 71],\n",
    "        [45, 12],\n",
    "        [60, 13],\n",
    "        [81, 94],\n",
    "        [23, 15],\n",
    "        [32, 71],\n",
    "        [11, 21],\n",
    "        [53, 76],\n",
    "        [23, 52],\n",
    "        [32, 23]]\n",
    "\n",
    "df = pd.DataFrame(data, columns=['Age1', 'Age2'])\n",
    "\n",
    "print(df.head())\n",
    "\n",
    "#   Age1  Age2\n",
    "#0    27    82\n",
    "#1    16    24\n",
    "#2    50    71\n",
    "#3    45    12\n",
    "#4    60    13\n",
    "\n",
    "print(df.head(3))\n",
    "\n",
    "#   Age1  Age2\n",
    "#0    27    82\n",
    "#1    16    24\n",
    "#2    50    71\n",
    "\n",
    "print(df.tail())\n",
    "\n",
    "#    Age1  Age2\n",
    "#7     32    71\n",
    "#8     11    21\n",
    "#9     53    76\n",
    "#10    23    52\n",
    "#11    32    23"
   ]
  },
  {
   "cell_type": "markdown",
   "metadata": {},
   "source": [
    "**Извлечение столбцов DataFrame**\n",
    "\n",
    "Например, если есть DataFrame с именем df нужно извлечь столбец с именем 'column1', можно использовать следующий код:\n",
    "\n",
    "column1 = df['column1']\n",
    "\n",
    "В Pandas DataFrame каждый столбец представлен объектом Series, который имеет имя, соответствующее названию столбца. Имя столбца является ключом для доступа к объекту Series внутри DataFrame.\n",
    "\n",
    "Существует также альтернативный способ обращения к колонкам в pandas: df.column1,  где column1 - имя колонки в DataFrame df.\n"
   ]
  },
  {
   "cell_type": "code",
   "execution_count": null,
   "metadata": {},
   "outputs": [],
   "source": [
    "#пример извлечения колонки из датасета\n",
    "import pandas as pd\n",
    "\n",
    "data = [[27, 82],\n",
    "        [16, 24],\n",
    "        [50, 71],\n",
    "        [45, 12]]\n",
    "\n",
    "df = pd.DataFrame(data, columns=['Age1', 'Age2'])\n",
    "\n",
    "print(df['Age1']) #выведет первую колонку в формате Series\n",
    "print(df.Age2) # выведет вторую колонку в формате Series"
   ]
  },
  {
   "cell_type": "markdown",
   "metadata": {},
   "source": [
    "**Создание нового столбца в DataFrame**\n",
    "\n",
    "Иногда может потребоваться создать новый столбец в DataFrame на основе данных из других столбцов. Для этого можно использовать синтаксис: \n",
    "\n",
    "DataFrame['new_column'] = value\n",
    "\n",
    "В этой строчке \"value\" – это значения для нового столбца, которые могут быть скалярами или массивами (или столбцами из уже существующего DataFrame)."
   ]
  },
  {
   "cell_type": "code",
   "execution_count": null,
   "metadata": {},
   "outputs": [],
   "source": [
    "#пример создания нового столбца - суммы двух предыдущих\n",
    "import pandas as pd\n",
    "\n",
    "data = [[27, 82],\n",
    "        [16, 24],\n",
    "        [50, 71],\n",
    "        [45, 12]]\n",
    "\n",
    "df = pd.DataFrame(data, columns=['Age1', 'Age2'])\n",
    "df['Total_age'] = df['Age1'] + df['Age2']\n",
    "\n",
    "print(df)\n",
    "\n",
    "#   Age1  Age2  Total_age\n",
    "#0    27    82        109\n",
    "#1    16    24         40\n",
    "#2    50    71        121\n",
    "#3    45    12         57"
   ]
  },
  {
   "cell_type": "markdown",
   "metadata": {},
   "source": [
    "Если есть DataFrame с именем df и нужно изменить значения столбца с именем 'column1', можно использовать следующий код:\n",
    "\n",
    "df['column1'] = [1, 2, 3, 4, 5]\n"
   ]
  },
  {
   "cell_type": "code",
   "execution_count": null,
   "metadata": {},
   "outputs": [],
   "source": [
    "#пример изменения значений в колонке\n",
    "import pandas as pd\n",
    "\n",
    "data = [[27, 82],\n",
    "        [16, 24],\n",
    "        [50, 71],\n",
    "        [45, 12]]\n",
    "\n",
    "df = pd.DataFrame(data, columns=['Age1', 'Age2'])\n",
    "\n",
    "print(df)\n",
    "\n",
    "#   Age1  Age2\n",
    "#0    27    82\n",
    "#1    16    24\n",
    "#2    50    71\n",
    "#3    45    12\n",
    "\n",
    "df['Age1'] = [7, 12, 31, 21]\n",
    "\n",
    "print(df)\n",
    "\n",
    "#   Age1  Age2\n",
    "#0     7    82\n",
    "#1    12    24\n",
    "#2    31    71\n",
    "#3    21    12"
   ]
  },
  {
   "cell_type": "markdown",
   "metadata": {},
   "source": [
    "**Изменение имени столбца DataFrame**\n",
    "\n",
    "Иногда может потребоваться изменить имя столбца DataFrame. Для этого можно использовать метод rename(), который позволяет изменить имя одного или нескольких столбцов DataFrame.\n",
    "\n",
    "Например, если  есть DataFrame с именем df и нужно изменить имя столбца 'column1' на 'new_column1', можно использовать следующий код:\n",
    "\n",
    "df.rename(columns={'column1': 'new_column1'}, inplace=True)\n",
    "\n",
    "Если установить inplace=False при использовании метода df.rename(), то изменения не будут сохранены в исходном DataFrame, а возвращаемый новый DataFrame будет содержать переименованные столбцы. По умолчанию параметр inplace установлен именно в это значение.\n",
    "\n",
    "Вот пример кода, который переименовывает столбец 'column1' в 'new_column1' и возвращает новый DataFrame, не изменяя исходный DataFrame:\n",
    "\n",
    "new_df = df.rename(columns={'column1': 'new_column1'}, inplace=False)\n",
    "\n",
    "Этот код создаст новый DataFrame new_df с тем же набором данных, что и df, но с измененным именем столбца 'column1' на 'new_column1'.\n"
   ]
  },
  {
   "cell_type": "code",
   "execution_count": null,
   "metadata": {},
   "outputs": [],
   "source": [
    "#пример изменения значений в колонке\n",
    "import pandas as pd\n",
    "\n",
    "data = [[27, 82],\n",
    "        [16, 24],\n",
    "        [50, 71],\n",
    "        [45, 12]]\n",
    "\n",
    "df = pd.DataFrame(data, columns=['Age1', 'Age2'])\n",
    "\n",
    "print(df)\n",
    "\n",
    "#   Age1  Age2\n",
    "#0    27    82\n",
    "#1    16    24\n",
    "#2    50    71\n",
    "#3    45    12\n",
    "\n",
    "df = df.rename(columns={'Age1' : 'Age2', 'Age2' : 'Age1'})\n",
    "#или df.rename(columns={'Age1' : 'Age2', 'Age2' : 'Age1'}, inplace=True)\n",
    "#лучше перезаписывать df - разработчики Pandas советуют отказываться от inplace\n",
    "\n",
    "print(df)\n",
    "\n",
    "#   Age2  Age1\n",
    "#0    27    82\n",
    "#1    16    24\n",
    "#2    50    71\n",
    "#3    45    12"
   ]
  },
  {
   "cell_type": "markdown",
   "metadata": {},
   "source": [
    "**Удаление столбца DataFrame**\n",
    "\n",
    "Чтобы удалить столбец DataFrame, вы можете использовать метод drop(), указав имя столбца и параметр axis=1. Это удалит указанный столбец из DataFrame.\n",
    "\n",
    "Например, если у вас есть DataFrame с именем df и вы хотите удалить столбец с именем 'column1', вы можете использовать следующий код:\n",
    "\n",
    "df.drop('column1', axis=1, inplace=True)\n",
    "\n",
    "либо\n",
    "\n",
    "df = df.drop('column1', axis=1)\n"
   ]
  },
  {
   "cell_type": "code",
   "execution_count": null,
   "metadata": {},
   "outputs": [],
   "source": [
    "#пример удаления колонок\n",
    "import pandas as pd\n",
    "\n",
    "data = [[27, 82],\n",
    "        [16, 24],\n",
    "        [50, 71],\n",
    "        [45, 12]]\n",
    "\n",
    "df = pd.DataFrame(data, columns=['Age1', 'Age2'])\n",
    "\n",
    "print(df)\n",
    "\n",
    "#   Age1  Age2\n",
    "#0    27    82\n",
    "#1    16    24\n",
    "#2    50    71\n",
    "#3    45    12\n",
    "\n",
    "df = df.drop('Age1', axis=1)\n",
    "#или df.drop('Age1', axis=1, inplace=True)\n",
    "\n",
    "print(df)\n",
    "\n",
    "#   Age2\n",
    "#0    82\n",
    "#1    24\n",
    "#2    71\n",
    "#3    12"
   ]
  },
  {
   "cell_type": "markdown",
   "metadata": {},
   "source": [
    "**Изменение имен столбцов DataFrame с помощью атрибута columns**\n",
    "\n",
    "Для изменения имен столбцов в Pandas DataFrame можно использовать атрибут columns. Для этого следует переопределить этот атрибут, передав в качестве нового значения список имен столбцов с желаемыми именами.\n",
    "\n",
    "Пусть имеется DataFrame df с колонками 'column1', 'column2', нам нужно переименовать колонки на 'new_column1', 'new_column2'. Вот пример кода, который делает это:\n",
    "\n",
    "df.columns = ['new_column2', 'new_column1']\n",
    "\n",
    "Этот код переопределит имена столбцов DataFrame df на новые.\n"
   ]
  },
  {
   "cell_type": "code",
   "execution_count": null,
   "metadata": {},
   "outputs": [],
   "source": [
    "#пример переименования колонок с помощью атрибута columns\n",
    "import pandas as pd\n",
    "\n",
    "data = [[27, 82],\n",
    "        [16, 24],\n",
    "        [50, 71],\n",
    "        [45, 12]]\n",
    "\n",
    "df = pd.DataFrame(data, columns=['Age1', 'Age2'])\n",
    "\n",
    "print(df)\n",
    "\n",
    "#   Age1  Age2\n",
    "#0    27    82\n",
    "#1    16    24\n",
    "#2    50    71\n",
    "#3    45    12\n",
    "\n",
    "df.columns = ['Wins', 'Losses']\n",
    "\n",
    "print(df)\n",
    "\n",
    "#   Wins  Losses\n",
    "#0    27      82\n",
    "#1    16      24\n",
    "#2    50      71\n",
    "#3    45      12"
   ]
  },
  {
   "cell_type": "markdown",
   "metadata": {},
   "source": [
    "**Перестановка порядка следования колонок в DataFrame**\n",
    "\n",
    "Иногда вам может потребоваться переставить колонки в существующем DataFrame. Предположим, у вас есть DataFrame с колонками 'column1', 'column2' и вы хотите поменять их местами, так чтобы сначала шла колонка 'column2', а потом 'column1'. Это можно сделать так:\n",
    "\n",
    "df = df[['column2', 'column1']]\n"
   ]
  },
  {
   "cell_type": "code",
   "execution_count": null,
   "metadata": {},
   "outputs": [],
   "source": [
    "#пример перестановки колонок местами\n",
    "import pandas as pd\n",
    "\n",
    "data = [[27, 82],\n",
    "        [16, 24],\n",
    "        [50, 71],\n",
    "        [45, 12]]\n",
    "\n",
    "df = pd.DataFrame(data, columns=['Age1', 'Age2'])\n",
    "\n",
    "print(df)\n",
    "\n",
    "#   Age1  Age2\n",
    "#0    27    82\n",
    "#1    16    24\n",
    "#2    50    71\n",
    "#3    45    12\n",
    "\n",
    "df = df[['Age2', 'Age1']]\n",
    "\n",
    "print(df)\n",
    "\n",
    "#   Age2  Age1\n",
    "#0    82    27\n",
    "#1    24    16\n",
    "#2    71    50\n",
    "#3    12    45"
   ]
  },
  {
   "cell_type": "markdown",
   "metadata": {},
   "source": [
    "**Изменение типа данных в колонке в DataFrame**\n",
    "\n",
    "Атрибут astype позволяет задавать отдельным колонкам конкретный тип данных. Пусть есть DataFrame с колонками 'column1' и 'column2', которым нужно задать тип данных int. Это можно сделать следующим образом:\n",
    "\n",
    "df = df.astype({'column1':'int64', 'column2': 'int64'})"
   ]
  },
  {
   "cell_type": "code",
   "execution_count": null,
   "metadata": {},
   "outputs": [],
   "source": [
    "#пример смены типа данных c int на float\n",
    "import pandas as pd\n",
    "\n",
    "data = [[27, 82],\n",
    "        [16, 24],\n",
    "        [50, 71],\n",
    "        [45, 12]]\n",
    "\n",
    "df = pd.DataFrame(data, columns=['Age1', 'Age2'])\n",
    "df = df.astype({'Age1' : 'float64', 'Age2' : 'float64'})\n",
    "\n",
    "print(df)\n",
    "\n",
    "#   Age1  Age2\n",
    "#0  27.0  82.0\n",
    "#1  16.0  24.0\n",
    "#2  50.0  71.0\n",
    "#3  45.0  12.0"
   ]
  },
  {
   "cell_type": "markdown",
   "metadata": {},
   "source": [
    "**Атрибуты index, values, name DataFrame, извлечение строк**\n",
    "=\n",
    "**Извлечение строк**\n",
    "\n",
    "В DataFrame есть несколько способов извлечения строк. Один из самых распространенных – это использование метода loc или iloc.\n",
    "loc позволяет извлекать строки по их меткам, а iloc - по их индексам.\n",
    "\n",
    "Методы loc и iloc возвращают объект DataFrame или объект Series, в зависимости от того, сколько строк было выбрано. Если используется loc для выбора одной строки, то он вернет объект Series."
   ]
  },
  {
   "cell_type": "code",
   "execution_count": null,
   "metadata": {},
   "outputs": [],
   "source": [
    "#пример извлечения строк с помощью методов loc и iloc\n",
    "import pandas as pd\n",
    "\n",
    "data = {'name': ['John', 'Jane', 'Bill'], \n",
    "        'age': [25, 30, 35],\n",
    "        'country': ['USA', 'Canada', 'UK']}\n",
    "\n",
    "df = pd.DataFrame(data, index=['a', 'b', 'c']) #присваиваем метки для дальнейшего использования loc\n",
    "\n",
    "print(df)\n",
    "\n",
    "#   name  age country\n",
    "#a  John   25     USA\n",
    "#b  Jane   30  Canada\n",
    "#c  Bill   35      UK\n",
    "\n",
    "print(df.loc['a']) #извлечение одной строки по её метке\n",
    "\n",
    "#name       John\n",
    "#age          25\n",
    "#country     USA\n",
    "#Name: a, dtype: object\n",
    "\n",
    "print(df.loc[['a', 'c']]) #извлечение нескольких строк по их меткам\n",
    "\n",
    "#   name  age country\n",
    "#a  John   25     USA\n",
    "#c  Bill   35      UK\n",
    "\n",
    "print(df.iloc[1]) #извлечение одной строки по её индексу\n",
    "\n",
    "#name         Jane\n",
    "#age            30\n",
    "#country    Canada\n",
    "#Name: b, dtype: object\n",
    "\n",
    "print(df.iloc[[0, 2]]) #извлечение нескольких строк по их меткам\n",
    "\n",
    "#   name  age country\n",
    "#a  John   25     USA\n",
    "#c  Bill   35      UK"
   ]
  },
  {
   "cell_type": "markdown",
   "metadata": {},
   "source": [
    "**Присваивание колонкам df объекта Series**\n",
    "\n",
    "Чтобы присвоить объект Series в качестве колонки DataFrame, можно использовать квадратные скобки и имя колонки (пример ниже).\n",
    "\n",
    "Это добавит новую колонку gender в DataFrame и заполнит ее значениями из объекта new_column.\n",
    "\n",
    "Если мы попытаемся присвоить объект Series, длина которого меньше длины колонки, то в оставшейся части колонки будут значения NaN, а не возникнет ошибка. Это происходит потому, что Pandas автоматически расширяет объект Series до размера колонки DataFrame и заполняет оставшуюся часть значениями NaN. Таким образом, мы можем без ошибок присваивать колонке DataFrame объекты Series, длина которых меньше длины колонки, и Pandas будет автоматически заполнять оставшуюся часть значений NaN.\n",
    "\n",
    "При попытке присвоить объект Series, длина которого больше, чем длина колонки DataFrame, объект Series будет обрезан до размера колонки DataFrame.\n",
    "\n",
    "Если же мы попытаемся присвоить колонке DataFrame список или словарь отличной длины, то возникнет ошибка.\n"
   ]
  },
  {
   "cell_type": "code",
   "execution_count": null,
   "metadata": {},
   "outputs": [],
   "source": [
    "#пример добавления объекта Series в качестве колонки\n",
    "import pandas as pd\n",
    "\n",
    "data = {'name': ['John', 'Jane', 'Bill'],\n",
    "        'age': [25, 30, 35],\n",
    "        'country': ['USA', 'Canada', 'UK']}\n",
    "\n",
    "df = pd.DataFrame(data)\n",
    "\n",
    "new_column = pd.Series(['male', 'female', 'male'], name='gender')\n",
    "df['gender'] = new_column\n",
    "\n",
    "print(df)\n",
    "\n",
    "#   name  age country  gender\n",
    "#0  John   25     USA    male\n",
    "#1  Jane   30  Canada  female\n",
    "#2  Bill   35      UK    male"
   ]
  },
  {
   "cell_type": "markdown",
   "metadata": {},
   "source": [
    "**Метод del**\n",
    "\n",
    "Метод del позволяет удалять колонки из DataFrame и, таким образом, является альтернативой более общему методу drop. Для этого нужно указать имя колонки после del.\n"
   ]
  },
  {
   "cell_type": "code",
   "execution_count": null,
   "metadata": {},
   "outputs": [],
   "source": [
    "#пример использования del для удаления колонки\n",
    "import pandas as pd\n",
    "\n",
    "data = {'name': ['John', 'Jane', 'Bill'],\n",
    "        'age': [25, 30, 35],\n",
    "        'country': ['USA', 'Canada', 'UK']}\n",
    "\n",
    "df = pd.DataFrame(data)\n",
    "\n",
    "print(df)\n",
    "\n",
    "#   name  age country\n",
    "#0  John   25     USA\n",
    "#1  Jane   30  Canada\n",
    "#2  Bill   35      UK\n",
    "\n",
    "del df['country']\n",
    "\n",
    "print(df)\n",
    "\n",
    "#   name  age\n",
    "#0  John   25\n",
    "#1  Jane   30\n",
    "#2  Bill   35"
   ]
  },
  {
   "cell_type": "markdown",
   "metadata": {},
   "source": [
    "**Задание index**\n",
    "\n",
    "Атрибут index позволяет задавать индексы строк DataFrame. Например, можно использовать атрибут index при создании объекта DataFrame в Pandas.\n",
    "\n",
    "Индексы задаются в виде списка, передаваемого атрибутом index при создании DataFrame. Если длина списка индексов не совпадает с количеством строк в DataFrame, будет сгенерировано исключение ValueError. Если атрибут index не задан при создании DataFrame, Pandas автоматически создаст числовой индекс по умолчанию от 0 до n-1, где n - количество строк в DataFrame."
   ]
  },
  {
   "cell_type": "code",
   "execution_count": null,
   "metadata": {},
   "outputs": [],
   "source": [
    "#пример задания меток\n",
    "\n",
    "import pandas as pd\n",
    "\n",
    "data = {'name': ['John', 'Jane', 'Bill'],\n",
    "        'age': [25, 30, 35],\n",
    "        'country': ['USA', 'Canada', 'UK']}\n",
    "index = ['a', 'b', 'c']\n",
    "\n",
    "df = pd.DataFrame(data, index=index)\n",
    "\n",
    "print(df)\n",
    "\n",
    "#   name  age country\n",
    "#a  John   25     USA\n",
    "#b  Jane   30  Canada\n",
    "#c  Bill   35      UK"
   ]
  },
  {
   "cell_type": "markdown",
   "metadata": {},
   "source": [
    "Также можно после создания DataFrame переопределить его атрибут index. Для этого используется метод set_index."
   ]
  },
  {
   "cell_type": "code",
   "execution_count": null,
   "metadata": {},
   "outputs": [],
   "source": [
    "#пример назначения меток из колонки датафрейма\n",
    "import pandas as pd\n",
    "\n",
    "data = {'name': ['John', 'Jane', 'Bill'],\n",
    "        'age': [25, 30, 35],\n",
    "        'country': ['USA', 'Canada', 'UK']}\n",
    "\n",
    "df = pd.DataFrame(data)\n",
    "df = df.set_index('name')\n",
    "\n",
    "print(df)\n",
    "\n",
    "#      age country\n",
    "#name             \n",
    "#John   25     USA\n",
    "#Jane   30  Canada\n",
    "#Bill   35      UK"
   ]
  },
  {
   "cell_type": "markdown",
   "metadata": {},
   "source": [
    "**Атрибут values**\n",
    "\n",
    "Атрибут values позволяет получить массив значений DataFrame в виде объекта – массива NumPy."
   ]
  },
  {
   "cell_type": "code",
   "execution_count": null,
   "metadata": {},
   "outputs": [],
   "source": [
    "#пример использования атрибута values\n",
    "import pandas as pd\n",
    "\n",
    "data = {'name': ['John', 'Jane', 'Bill'],\n",
    "        'age': [25, 30, 35],\n",
    "        'country': ['USA', 'Canada', 'UK']}\n",
    "\n",
    "df = pd.DataFrame(data)\n",
    "\n",
    "print(df.values)\n",
    "\n",
    "#[['John' 25 'USA']\n",
    "# ['Jane' 30 'Canada']\n",
    "# ['Bill' 35 'UK']]"
   ]
  },
  {
   "cell_type": "markdown",
   "metadata": {},
   "source": [
    "**Индексные объекты Pandas**\n",
    "=\n",
    "Индексные объекты – это объекты, которые используются для доступа к данным в Pandas. Они представляют собой особый тип структуры данных, который помогает определять порядок, доступ и обработку данных в Pandas. Index в Pandas – это одномерный массив меток (labels), который используется для индексации осей DataFrame или Series. Он может быть рассмотрен как неизменяемый массив меток.\n",
    "\n",
    "В Pandas существует два типа индексных объектов: индексы строк и индексы столбцов. Индексы строк используются для доступа к данным в строках, а индексы столбцов – для доступа к данным в столбцах."
   ]
  },
  {
   "cell_type": "markdown",
   "metadata": {},
   "source": [
    "**Индексы строк**\n",
    "\n",
    "Индексы строк используются для доступа к данным в строках. Они могут быть созданы из различных типов данных, таких как списки, массивы, кортежи, словари и т.д. Однако, наиболее распространенным типом индекса является RangeIndex, который создается по умолчанию при создании объекта DataFrame.\n"
   ]
  },
  {
   "cell_type": "code",
   "execution_count": null,
   "metadata": {},
   "outputs": [],
   "source": [
    "#выводим индекс строки\n",
    "import pandas as pd\n",
    "\n",
    "df = pd.DataFrame({'name': ['Alice', 'Bob', 'Charlie'],\n",
    "                   'age': [25, 30, 35]})\n",
    "\n",
    "print(df.index)\n",
    "\n",
    "#RangeIndex(start=0, stop=3, step=1)"
   ]
  },
  {
   "cell_type": "markdown",
   "metadata": {},
   "source": [
    "По умолчанию, создается RangeIndex с шагом 1 от 0 до N - 1. RangeIndex – это тип индекса строк, который является последовательностью целых чисел, начинающихся с 0 и увеличивающихся на 1 для каждой строки в DataFrame.\n",
    "\n",
    "RangeIndex предоставляет компактное представление индекса строк и обычно используется для DataFrame, где индексы строк не являются уникальными или не имеют специального значения. Он также может быть полезен, когда создается новый DataFrame с помощью функции, которая возвращает список или массив значений, например, при чтении данных из файла CSV или Excel.\n",
    "\n",
    "RangeIndex можно создать явно с помощью функции range (пример ниже).\n"
   ]
  },
  {
   "cell_type": "code",
   "execution_count": null,
   "metadata": {},
   "outputs": [],
   "source": [
    "#явно задаём индексы через RangeIndex\n",
    "import pandas as pd\n",
    "\n",
    "df = pd.DataFrame({'A': [1, 2, 3], 'B': [4, 5, 6]}, index=range(3))\n",
    "\n",
    "print(df.index)\n",
    "\n",
    "#RangeIndex(start=0, stop=3, step=1)"
   ]
  },
  {
   "cell_type": "markdown",
   "metadata": {},
   "source": [
    "В Pandas есть несколько типов индексов, которые могут быть использованы для доступа к данным в строках DataFrame:\n",
    "\n",
    "1. Int64Index – это тип индекса строк, который содержит целочисленные значения. Он может быть использован, когда индексы строк должны быть уникальными и могут быть отрицательными.\n",
    "\n",
    "2. Float64Index – это тип индекса строк, который содержит значения с плавающей точкой. Он может быть использован, когда индексы строк должны быть уникальными и могут содержать значения с плавающей точкой.\n",
    "\n",
    "3. DatetimeIndex – это тип индекса строк, который содержит значения даты и времени. Он может быть использован, когда индексы строк должны быть уникальными и могут содержать значения даты и времени.\n",
    "\n",
    "и ряд других.\n"
   ]
  },
  {
   "cell_type": "markdown",
   "metadata": {},
   "source": [
    "**Атрибуты объекта Index в Pandas**\n",
    "\n",
    "**Атрибут name** у индексного объекта в Pandas позволяет задать имя индекса при его создании или изменить его позднее. Имя индекса полезно для идентификации индекса при работе с DataFrame или Series. Если DataFrame был создан без задания имени индекса, то имя индекса может быть задано путем присваивания имени атрибуту name у индекса DataFrame."
   ]
  },
  {
   "cell_type": "code",
   "execution_count": null,
   "metadata": {},
   "outputs": [],
   "source": [
    "#пример присванивания индексам имени\n",
    "\n",
    "df = pd.DataFrame({'values': [0.25, 0.5, 0.75, 1.0]}, index=[1, 2, 3, 4])\n",
    "\n",
    "df.index.name = 'index_name'\n",
    "\n",
    "print(df)\n",
    "\n",
    "#            values\n",
    "#index_name        \n",
    "#1             0.25\n",
    "#2             0.50\n",
    "#3             0.75\n",
    "#4             1.00"
   ]
  },
  {
   "cell_type": "markdown",
   "metadata": {},
   "source": [
    "**Атрибут dtype** объекта Index в Pandas показывает тип данных элементов, хранящихся в данном индексе. Он может быть использован для проверки типа индекса и определения того, какие операции могут быть выполнены с использованием этого индекса.\n",
    "\n",
    "В зависимости от типа элементов в индексе, атрибут dtype может принимать различные значения. Например, если индекс содержит только числовые значения, то dtype будет соответствовать типу данных этих чисел, таким как int64 или float64. Если индекс содержит строковые значения, то dtype будет иметь тип object. \n",
    "\n",
    "Атрибут dtype может быть полезен для выполнения операций, которые требуют определенного типа данных. Например, если мы хотим выполнить математическую операцию, например, суммирование значений в индексе, нам нужно убедиться, что все элементы имеют числовой тип данных. Если же индекс содержит элементы различных типов, то для выполнения операций нам необходимо сначала преобразовать индекс к нужному типу данных.\n",
    "\n",
    "Атрибуты shape, size и values являются частями объекта Index в Pandas и предоставляют информацию о его структуре и содержании.\n",
    "\n",
    "**Атрибут shape** возвращает кортеж, который содержит количество элементов в каждом измерении индекса. Если индекс одномерный, то shape будет иметь вид (n,), где n – это количество элементов в индексе.\n",
    "\n",
    "**Атрибут size** возвращает количество элементов в индексе. Это просто целое число, равное количеству элементов в индексе.\n",
    "\n",
    "**Атрибут values** возвращает массив, содержащий фактические элементы индекса. Этот массив может быть использован для выполнения различных операций на элементах индекса.\n"
   ]
  },
  {
   "cell_type": "code",
   "execution_count": null,
   "metadata": {},
   "outputs": [],
   "source": [
    "#использование атрибутов dtype, shape, size и values\n",
    "import pandas as pd\n",
    "\n",
    "idx = pd.Index(['a', 'b', 'c', 'd'])\n",
    "\n",
    "print(\"dtype:\", idx.dtype)\n",
    "print(\"shape:\", idx.shape)\n",
    "print(\"size:\", idx.size)\n",
    "print(\"values:\", idx.values)\n",
    "\n",
    "#dtype: object\n",
    "#shape: (4,)\n",
    "#size: 4\n",
    "#values: ['a' 'b' 'c' 'd']"
   ]
  },
  {
   "cell_type": "markdown",
   "metadata": {},
   "source": [
    "**Флаги в объекте Index**\n",
    "\n",
    "Флаги в Pandas – это логические значения, которые показывают различные свойства индекса, такие как уникальность значений, их упорядоченность, отсутствие дубликатов и т.д. Некоторые из флагов, доступных для объекта Index, являются следующими:\n",
    "\n",
    "1. is_unique: флаг, указывающий, являются ли все значения индекса уникальными. Возвращает True, если все значения в индексе уникальны, в противном случае возвращает False.\n",
    "\n",
    "2. is_monotonic_increasing: флаг, указывающий, упорядочены ли значения индекса монотонно по возрастанию. Возвращает True, если индекс монотонный по возрастанию, в противном случае возвращает False.\n",
    "\n",
    "3. is_monotonic_decreasing: флаг, указывающий, упорядочены ли значения индекса монотонно по убыванию. Возвращает True, если индекс монотонный по убыванию, в противном случае возвращает False."
   ]
  },
  {
   "cell_type": "code",
   "execution_count": null,
   "metadata": {},
   "outputs": [],
   "source": [
    "#проверка флагов\n",
    "import pandas as pd\n",
    "\n",
    "idx1 = pd.Index(['a', 'b', 'c', 'd', 'a'])\n",
    "idx2 = pd.Index(['a', 'b', 'c', 'd'])\n",
    "\n",
    "print(\"is_unique:\", idx1.is_unique)\n",
    "print(\"is_monotonic_increasing:\", idx2.is_monotonic_increasing)\n",
    "print(\"is_monotonic_decreasing:\", idx2.is_monotonic_decreasing)\n",
    "\n",
    "#is_unique: False\n",
    "#is_monotonic_increasing: True\n",
    "#is_monotonic_decreasing: False"
   ]
  },
  {
   "cell_type": "markdown",
   "metadata": {},
   "source": [
    "**Метод isin() объекта Index в Pandas**\n",
    "\n",
    "Метод isin() является одним из методов, доступных для объектов индекса в Pandas. Он позволяет проверить, содержит ли данный индекс определенные значения. Синтаксис метода isin() для Index:\n",
    "\n",
    "Index.isin(values)\n",
    "\n",
    "Values –  итерируемый объект, содержащий значения для проверки.\n",
    "\n",
    "Метод возвращает булев массив, указывающий, содержатся ли соответствующие значения индексного массива в последовательности values. В качестве аргумента values могут выступать различные типы объектов, например, список, кортеж, множество и др.\n",
    "\n",
    "Метод isin() может быть полезен, когда требуется выбрать только определенные значения из индекса или выполнить фильтрацию данных по индексу."
   ]
  },
  {
   "cell_type": "code",
   "execution_count": null,
   "metadata": {},
   "outputs": [],
   "source": [
    "#пример использования метода isin()\n",
    "import pandas as pd\n",
    "\n",
    "idx = pd.Index([1, 2, 3, 4, 5])\n",
    "\n",
    "print(idx.isin([2, 4, 6]))\n",
    "\n",
    "#[False True False True False]\n"
   ]
  },
  {
   "cell_type": "markdown",
   "metadata": {},
   "source": [
    "**Метод reindex в Pandas**\n",
    "=\n",
    "Метод reindex в pandas используется для изменения порядка, добавления или удаления строк и столбцов в DataFrame. Он возвращает новый объект DataFrame с новым индексом. Метод reindex может быть использован с различными параметрами, которые позволяют осуществлять различные манипуляции с данными.\n",
    "\n",
    "Синтаксис метода reindex:\n",
    "\n",
    "DataFrame.reindex(labels=None, index=None, columns=None, axis=None, method=None, copy=True, level=None, fill_value=nan, limit=None, tolerance=None)\n",
    "\n",
    "Параметры метода reindex:\n",
    "1.\tlabels: Список новых меток для переиндексации. Используется, если не указаны параметры index или columns.\n",
    "2.\tindex: Список новых индексов для строк.\n",
    "3.\tcolumns: Список новых индексов для столбцов.\n",
    "4.\taxis: Ось для переиндексации (0 для строк, 1 для столбцов).\n",
    "5.\tmethod: Метод для заполнения значений, если новые метки не соответствуют старым. Возможные значения:\n",
    "6.\tcopy: Если True, создается копия данных, даже если индексы совпадают.\n",
    "7.\tlevel: Уровень для мультииндексации.\n",
    "8.\tfill_value: Значение для заполнения отсутствующих данных.\n",
    "9.\tlimit: Максимальное количество замен при заполнении.\n",
    "10.\ttolerance: Допустимое отклонение для заполнения методом 'nearest'.\n",
    "\n",
    "Возможные значения method:\n",
    "1. 'None (по умолчанию)\n",
    "2. 'pad' / 'ffill' (заполнение вперед)\n",
    "3. 'backfill' / 'bfill' (заполнение назад)\n",
    "4. 'nearest' (ближайшее значение)\n"
   ]
  },
  {
   "cell_type": "markdown",
   "metadata": {},
   "source": [
    "**Основные варианты использования**\n",
    "\n",
    "Переиндексация строк или столбцов:\n",
    "1.\tПереиндексация строк.\n",
    "2.\tПереиндексация столбцов.\n",
    "3.\tПереиндексация строк и столбцов одновременно.\n",
    "\n",
    "Заполнение отсутствующих значений:\n",
    "1.\tИспользование метода заполнения вперед (pad/ffill).\n",
    "2.\tИспользование метода заполнения назад (backfill/bfill).\n",
    "3.\tЗаполнение конкретным значением.\n",
    "Работа с мультииндексом: нет в этом курсе.\n"
   ]
  }
 ],
 "metadata": {
  "kernelspec": {
   "display_name": "Python 3",
   "language": "python",
   "name": "python3"
  },
  "language_info": {
   "codemirror_mode": {
    "name": "ipython",
    "version": 3
   },
   "file_extension": ".py",
   "mimetype": "text/x-python",
   "name": "python",
   "nbconvert_exporter": "python",
   "pygments_lexer": "ipython3",
   "version": "3.11.1"
  }
 },
 "nbformat": 4,
 "nbformat_minor": 2
}
